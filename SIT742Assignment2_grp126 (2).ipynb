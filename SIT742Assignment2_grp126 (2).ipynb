{
  "nbformat": 4,
  "nbformat_minor": 0,
  "metadata": {
    "colab": {
      "name": "SIT742Assignment2_final.ipynb",
      "version": "0.3.2",
      "provenance": [],
      "collapsed_sections": []
    },
    "language_info": {
      "mimetype": "text/x-python",
      "nbconvert_exporter": "python",
      "version": "3.5.5",
      "name": "python",
      "file_extension": ".py",
      "pygments_lexer": "ipython3",
      "codemirror_mode": {
        "version": 3,
        "name": "ipython"
      }
    },
    "kernelspec": {
      "display_name": "Python 3.5",
      "name": "python3",
      "language": "python"
    }
  },
  "cells": [
    {
      "cell_type": "markdown",
      "metadata": {
        "id": "_th7e2nu0At7",
        "colab_type": "text"
      },
      "source": [
        "# SIT742: Modern Data Science \n",
        "**(Assessment Task 02: Bank Marketing Data Analytics)**\n",
        "\n",
        "---\n",
        "- Materials in this module include resources collected from various open-source online repositories.\n",
        "- You are free to use, change and distribute this package.\n",
        "\n",
        "Prepared by **SIT742 Teaching Team**\n",
        "\n",
        "\n",
        "---\n",
        "\n",
        "**Project Group Information:**\n",
        "-Group Number-126\n",
        "\n",
        "\n",
        "- Names:Sai Tharun Palagiri\n",
        "- Student IDs:217636438\n",
        "- Emails:spalagiri@deakin.edu.au\n",
        "\n",
        "- Names:FAROOQ SARFRAZ\n",
        "- Student IDs:218436204\n",
        "- Emails:Fsarfraz@deakin.edu.au\n",
        "\n",
        "- Names:SAI PRASANTH THIRUMANI\n",
        "- Student IDs:218008216\n",
        "- Emails:sthirumani@deakin.edu.au\n",
        "\n",
        "\n",
        "---"
      ]
    },
    {
      "cell_type": "markdown",
      "metadata": {
        "colab_type": "text",
        "id": "eASNvREtBU9G"
      },
      "source": [
        "# 1.Import Spark"
      ]
    },
    {
      "cell_type": "code",
      "metadata": {
        "colab_type": "code",
        "id": "duCJfMrnGu00",
        "cellView": "code",
        "outputId": "35a35ef1-1a03-4981-cbb9-59f616ff35aa",
        "colab": {
          "base_uri": "https://localhost:8080/",
          "height": 163
        }
      },
      "source": [
        "!pip install wget\n",
        "!apt-get install openjdk-8-jdk-headless -qq > /dev/null\n",
        "!wget -q https://archive.apache.org/dist/spark/spark-2.4.0/spark-2.4.0-bin-hadoop2.7.tgz\n",
        "!tar xf spark-2.4.0-bin-hadoop2.7.tgz\n",
        "!pip install -q findspark\n",
        "import os\n",
        "os.environ[\"JAVA_HOME\"] = \"/usr/lib/jvm/java-8-openjdk-amd64\"\n",
        "os.environ[\"SPARK_HOME\"] = \"/content/spark-2.4.0-bin-hadoop2.7\""
      ],
      "execution_count": 1,
      "outputs": [
        {
          "output_type": "stream",
          "text": [
            "Collecting wget\n",
            "  Downloading https://files.pythonhosted.org/packages/47/6a/62e288da7bcda82b935ff0c6cfe542970f04e29c756b0e147251b2fb251f/wget-3.2.zip\n",
            "Building wheels for collected packages: wget\n",
            "  Building wheel for wget (setup.py) ... \u001b[?25l\u001b[?25hdone\n",
            "  Stored in directory: /root/.cache/pip/wheels/40/15/30/7d8f7cea2902b4db79e3fea550d7d7b85ecb27ef992b618f3f\n",
            "Successfully built wget\n",
            "Installing collected packages: wget\n",
            "Successfully installed wget-3.2\n"
          ],
          "name": "stdout"
        }
      ]
    },
    {
      "cell_type": "code",
      "metadata": {
        "colab_type": "code",
        "id": "aGOo805LA-fM",
        "colab": {}
      },
      "source": [
        "import findspark\n",
        "findspark.init()\n",
        "from pyspark.sql import SparkSession \n",
        "from pyspark.sql import SQLContext\n",
        "from pyspark import SparkContext\n",
        "sc = SparkContext.getOrCreate()\n",
        "sqlContext = SQLContext(sc)"
      ],
      "execution_count": 0,
      "outputs": []
    },
    {
      "cell_type": "markdown",
      "metadata": {
        "colab_type": "text",
        "id": "K7bEtO_fBZmE"
      },
      "source": [
        "# 2.Read and check data"
      ]
    },
    {
      "cell_type": "code",
      "metadata": {
        "id": "EADPspOv0Auh",
        "colab_type": "code",
        "colab": {}
      },
      "source": [
        "import wget\n",
        "#this is to link the bank file with the required data\n",
        "link_to_data = 'https://github.com/tulip-lab/sit742/raw/master/Assessment/2019/data/bank.csv'\n",
        "DataSet = wget.download(link_to_data)"
      ],
      "execution_count": 0,
      "outputs": []
    },
    {
      "cell_type": "code",
      "metadata": {
        "id": "tiM-PiiR0Aup",
        "colab_type": "code",
        "outputId": "b232c22c-e8af-4031-8d03-cc490218aa0e",
        "colab": {
          "base_uri": "https://localhost:8080/",
          "height": 35
        }
      },
      "source": [
        "!ls"
      ],
      "execution_count": 4,
      "outputs": [
        {
          "output_type": "stream",
          "text": [
            "bank.csv  sample_data  spark-2.4.0-bin-hadoop2.7  spark-2.4.0-bin-hadoop2.7.tgz\n"
          ],
          "name": "stdout"
        }
      ]
    },
    {
      "cell_type": "code",
      "metadata": {
        "colab_type": "code",
        "id": "FQ8Ts9eZBA-M",
        "outputId": "01cb9594-43ae-4c25-b757-72f8f1676ced",
        "colab": {
          "base_uri": "https://localhost:8080/",
          "height": 563
        }
      },
      "source": [
        "# Import the 'bank.csv' as a Spark dataframe and name it as df\n",
        "spark = SparkSession.builder.appName('ml-bank').getOrCreate()\n",
        "df = spark.read.csv('bank.csv', header = True, inferSchema = True) \n",
        "\n",
        "#this is to show the schema of the spark dataframe\n",
        "df.printSchema() \n",
        "\n",
        "#to show the first five rows of the dataframe\n",
        "df.show(5)"
      ],
      "execution_count": 5,
      "outputs": [
        {
          "output_type": "stream",
          "text": [
            "root\n",
            " |-- age: integer (nullable = true)\n",
            " |-- job: string (nullable = true)\n",
            " |-- marital: string (nullable = true)\n",
            " |-- education: string (nullable = true)\n",
            " |-- default: string (nullable = true)\n",
            " |-- balance: integer (nullable = true)\n",
            " |-- housing: string (nullable = true)\n",
            " |-- loan: string (nullable = true)\n",
            " |-- contact: string (nullable = true)\n",
            " |-- day: integer (nullable = true)\n",
            " |-- month: string (nullable = true)\n",
            " |-- duration: integer (nullable = true)\n",
            " |-- campaign: integer (nullable = true)\n",
            " |-- pdays: integer (nullable = true)\n",
            " |-- previous: integer (nullable = true)\n",
            " |-- poutcome: string (nullable = true)\n",
            " |-- deposit: string (nullable = true)\n",
            "\n",
            "+---+----------+-------+---------+-------+-------+-------+----+-------+---+-----+--------+--------+-----+--------+--------+-------+\n",
            "|age|       job|marital|education|default|balance|housing|loan|contact|day|month|duration|campaign|pdays|previous|poutcome|deposit|\n",
            "+---+----------+-------+---------+-------+-------+-------+----+-------+---+-----+--------+--------+-----+--------+--------+-------+\n",
            "| 59|    admin.|married|secondary|     no|   2343|    yes|  no|unknown|  5|  may|    1042|       1|   -1|       0| unknown|    yes|\n",
            "| 56|    admin.|married|secondary|     no|     45|     no|  no|unknown|  5|  may|    1467|       1|   -1|       0| unknown|    yes|\n",
            "| 41|technician|married|secondary|     no|   1270|    yes|  no|unknown|  5|  may|    1389|       1|   -1|       0| unknown|    yes|\n",
            "| 55|  services|married|secondary|     no|   2476|    yes|  no|unknown|  5|  may|     579|       1|   -1|       0| unknown|    yes|\n",
            "| 54|    admin.|married| tertiary|     no|    184|     no|  no|unknown|  5|  may|     673|       2|   -1|       0| unknown|    yes|\n",
            "+---+----------+-------+---------+-------+-------+-------+----+-------+---+-----+--------+--------+-----+--------+--------+-------+\n",
            "only showing top 5 rows\n",
            "\n"
          ],
          "name": "stdout"
        }
      ]
    },
    {
      "cell_type": "code",
      "metadata": {
        "colab_type": "code",
        "id": "XJGWVc0yB0UA",
        "outputId": "03f50d9e-d425-48ee-8f3b-30900edd60f7",
        "colab": {
          "base_uri": "https://localhost:8080/",
          "height": 381
        }
      },
      "source": [
        "\n",
        "# Data distribution using printSchema() \n",
        "df.printSchema()\n",
        "print(\"The number of observations present in bank data set are {}\".format(df.count()))\n"
      ],
      "execution_count": 6,
      "outputs": [
        {
          "output_type": "stream",
          "text": [
            "root\n",
            " |-- age: integer (nullable = true)\n",
            " |-- job: string (nullable = true)\n",
            " |-- marital: string (nullable = true)\n",
            " |-- education: string (nullable = true)\n",
            " |-- default: string (nullable = true)\n",
            " |-- balance: integer (nullable = true)\n",
            " |-- housing: string (nullable = true)\n",
            " |-- loan: string (nullable = true)\n",
            " |-- contact: string (nullable = true)\n",
            " |-- day: integer (nullable = true)\n",
            " |-- month: string (nullable = true)\n",
            " |-- duration: integer (nullable = true)\n",
            " |-- campaign: integer (nullable = true)\n",
            " |-- pdays: integer (nullable = true)\n",
            " |-- previous: integer (nullable = true)\n",
            " |-- poutcome: string (nullable = true)\n",
            " |-- deposit: string (nullable = true)\n",
            "\n",
            "The number of observations present in bank data set are 11162\n"
          ],
          "name": "stdout"
        }
      ]
    },
    {
      "cell_type": "code",
      "metadata": {
        "id": "Jz8HecyuA5sP",
        "colab_type": "code",
        "outputId": "8b3286e0-993c-4e35-f433-5cabbd68202b",
        "colab": {
          "base_uri": "https://localhost:8080/",
          "height": 219
        }
      },
      "source": [
        "# Summary statistics of all atrributes present in the data\n",
        "df.describe().show()"
      ],
      "execution_count": 7,
      "outputs": [
        {
          "output_type": "stream",
          "text": [
            "+-------+------------------+-------+--------+---------+-------+------------------+-------+-----+--------+------------------+-----+------------------+------------------+------------------+------------------+--------+-------+\n",
            "|summary|               age|    job| marital|education|default|           balance|housing| loan| contact|               day|month|          duration|          campaign|             pdays|          previous|poutcome|deposit|\n",
            "+-------+------------------+-------+--------+---------+-------+------------------+-------+-----+--------+------------------+-----+------------------+------------------+------------------+------------------+--------+-------+\n",
            "|  count|             11162|  11162|   11162|    11162|  11162|             11162|  11162|11162|   11162|             11162|11162|             11162|             11162|             11162|             11162|   11162|  11162|\n",
            "|   mean|41.231947679627304|   null|    null|     null|   null|1528.5385235620856|   null| null|    null|15.658036194230425| null|371.99381831213043| 2.508421429851281| 51.33040673714388|0.8325568894463358|    null|   null|\n",
            "| stddev|11.913369192215518|   null|    null|     null|   null| 3225.413325946149|   null| null|    null| 8.420739541006462| null|347.12838571630687|2.7220771816614824|108.75828197197717| 2.292007218670508|    null|   null|\n",
            "|    min|                18| admin.|divorced|  primary|     no|             -6847|     no|   no|cellular|                 1|  apr|                 2|                 1|                -1|                 0| failure|     no|\n",
            "|    max|                95|unknown|  single|  unknown|    yes|             81204|    yes|  yes| unknown|                31|  sep|              3881|                63|               854|                58| unknown|    yes|\n",
            "+-------+------------------+-------+--------+---------+-------+------------------+-------+-----+--------+------------------+-----+------------------+------------------+------------------+------------------+--------+-------+\n",
            "\n"
          ],
          "name": "stdout"
        }
      ]
    },
    {
      "cell_type": "code",
      "metadata": {
        "id": "isT3sN4EBtWl",
        "colab_type": "code",
        "outputId": "45bfdc08-e6d5-42e2-f457-378b385a73a9",
        "colab": {
          "base_uri": "https://localhost:8080/",
          "height": 35
        }
      },
      "source": [
        "# Unique entries present in poutcome\n",
        "df.select(\"poutcome\").distinct().rdd.map(lambda r: r[0]).collect()"
      ],
      "execution_count": 8,
      "outputs": [
        {
          "output_type": "execute_result",
          "data": {
            "text/plain": [
              "['success', 'unknown', 'other', 'failure']"
            ]
          },
          "metadata": {
            "tags": []
          },
          "execution_count": 8
        }
      ]
    },
    {
      "cell_type": "code",
      "metadata": {
        "id": "0rF0R1z7Cj9H",
        "colab_type": "code",
        "outputId": "35894d2f-2ffb-4b81-8b66-508f7f3390f8",
        "colab": {
          "base_uri": "https://localhost:8080/",
          "height": 326
        }
      },
      "source": [
        "# Check for missing values\n",
        "for col in df.columns:\n",
        "\n",
        "  print(col, \"\\t\", \"with null values: \", df.filter(df[col].isNull()).count())"
      ],
      "execution_count": 9,
      "outputs": [
        {
          "output_type": "stream",
          "text": [
            "age \t with null values:  0\n",
            "job \t with null values:  0\n",
            "marital \t with null values:  0\n",
            "education \t with null values:  0\n",
            "default \t with null values:  0\n",
            "balance \t with null values:  0\n",
            "housing \t with null values:  0\n",
            "loan \t with null values:  0\n",
            "contact \t with null values:  0\n",
            "day \t with null values:  0\n",
            "month \t with null values:  0\n",
            "duration \t with null values:  0\n",
            "campaign \t with null values:  0\n",
            "pdays \t with null values:  0\n",
            "previous \t with null values:  0\n",
            "poutcome \t with null values:  0\n",
            "deposit \t with null values:  0\n"
          ],
          "name": "stdout"
        }
      ]
    },
    {
      "cell_type": "code",
      "metadata": {
        "id": "Aske-R6bEC1w",
        "colab_type": "code",
        "outputId": "6a41f6c0-e9d2-4abe-ddbf-727cc14d4359",
        "colab": {
          "base_uri": "https://localhost:8080/",
          "height": 326
        }
      },
      "source": [
        "# check for any entries with\"?\"\n",
        "for col in df.columns:\n",
        "\n",
        "  print(col, \"\\t\", \"with ‘?’ values:\" , df.filter(df[col]==\"?\").count())"
      ],
      "execution_count": 10,
      "outputs": [
        {
          "output_type": "stream",
          "text": [
            "age \t with ‘?’ values: 0\n",
            "job \t with ‘?’ values: 0\n",
            "marital \t with ‘?’ values: 0\n",
            "education \t with ‘?’ values: 0\n",
            "default \t with ‘?’ values: 0\n",
            "balance \t with ‘?’ values: 0\n",
            "housing \t with ‘?’ values: 0\n",
            "loan \t with ‘?’ values: 0\n",
            "contact \t with ‘?’ values: 0\n",
            "day \t with ‘?’ values: 0\n",
            "month \t with ‘?’ values: 0\n",
            "duration \t with ‘?’ values: 0\n",
            "campaign \t with ‘?’ values: 0\n",
            "pdays \t with ‘?’ values: 0\n",
            "previous \t with ‘?’ values: 0\n",
            "poutcome \t with ‘?’ values: 0\n",
            "deposit \t with ‘?’ values: 0\n"
          ],
          "name": "stdout"
        }
      ]
    },
    {
      "cell_type": "markdown",
      "metadata": {
        "id": "K_tE7wE1BVwZ",
        "colab_type": "text"
      },
      "source": [
        ""
      ]
    },
    {
      "cell_type": "markdown",
      "metadata": {
        "colab_type": "text",
        "id": "wKQMhrtFChHa"
      },
      "source": [
        "# 3.Select features"
      ]
    },
    {
      "cell_type": "code",
      "metadata": {
        "colab_type": "code",
        "id": "VU5xMqN_RyM2",
        "colab": {}
      },
      "source": [
        "#Selecting features ('age', 'job', 'marital', 'education', 'default', 'balance', 'housing', 'loan', 'campaign', 'pdays', 'previous', 'poutcome', 'deposit') as df2\n",
        "\n",
        "#selecting the required variables as a new dataframe \n",
        "df2=df.select('age','job','marital', 'education', 'default', 'balance', 'housing', 'loan', 'campaign', 'pdays', 'previous', 'poutcome', 'deposit')\n"
      ],
      "execution_count": 0,
      "outputs": []
    },
    {
      "cell_type": "code",
      "metadata": {
        "colab_type": "code",
        "id": "vwF5sqRYa_eI",
        "outputId": "354e4696-c642-4265-bffa-386982d77aa5",
        "colab": {
          "base_uri": "https://localhost:8080/",
          "height": 490
        }
      },
      "source": [
        "#Remove invalid rows/records using spark.sql \n",
        "\n",
        "df2.registerTempTable(\"data\")\n",
        "#removing the rows with any NULL values and filtering the poutcome variable which has UNKNOWN values \n",
        "noNullValues = sqlContext.sql(\"SELECT age, job, marital, education, default, balance, housing, loan, campaign, pdays, previous, poutcome, deposit FROM data WHERE poutcome!='unknown' AND poutcome!='other' \")\n",
        "\n",
        "noNullValues.show()\n",
        "\n",
        "#creating a temporary dataframe to run the further algorithms\n",
        "dftemp = noNullValues\n",
        "\n"
      ],
      "execution_count": 12,
      "outputs": [
        {
          "output_type": "stream",
          "text": [
            "+---+------------+--------+---------+-------+-------+-------+----+--------+-----+--------+--------+-------+\n",
            "|age|         job| marital|education|default|balance|housing|loan|campaign|pdays|previous|poutcome|deposit|\n",
            "+---+------------+--------+---------+-------+-------+-------+----+--------+-----+--------+--------+-------+\n",
            "| 33|    services| married|secondary|     no|   3444|    yes|  no|       1|   91|       4| failure|    yes|\n",
            "| 56|  technician| married|secondary|     no|    589|    yes|  no|       1|  147|       2| success|    yes|\n",
            "| 34|      admin.| married| tertiary|     no|    899|    yes|  no|       1|  170|       3| failure|    yes|\n",
            "| 53|     retired| married| tertiary|     no|   2269|     no|  no|       2|  150|       1| success|    yes|\n",
            "| 37|  technician| married|secondary|     no|   5115|    yes|  no|       2|  171|       4| failure|    yes|\n",
            "| 45|entrepreneur| married|secondary|     no|    781|     no| yes|       2|  126|       2| failure|    yes|\n",
            "| 46|  unemployed|divorced|secondary|     no|   3354|    yes|  no|       1|  174|       1| success|    yes|\n",
            "| 40|  management| married| tertiary|     no|   3352|    yes|  no|       2|   27|       1| success|    yes|\n",
            "| 32|  technician| married| tertiary|     no|   4654|    yes| yes|       1|  128|       2| failure|    yes|\n",
            "| 30| blue-collar| married|secondary|     no|    501|    yes| yes|       1|  177|       1| failure|    yes|\n",
            "| 46|  technician| married| tertiary|     no|      0|     no|  no|       1|  167|       1| failure|    yes|\n",
            "| 38|entrepreneur| married| tertiary|     no|   1110|    yes|  no|       2|  183|       2| failure|    yes|\n",
            "| 32|    services| married|secondary|     no|    983|    yes|  no|       2|  133|       1| failure|    yes|\n",
            "| 31|  unemployed| married|secondary|     no|    314|    yes|  no|       3|  178|       7| failure|    yes|\n",
            "| 50| blue-collar| married|  primary|     no|  12519|    yes|  no|       3|   34|       1| failure|    yes|\n",
            "| 47|  technician| married|secondary|     no|      0|     no|  no|       1|   10|       1| failure|    yes|\n",
            "| 59|  management| married| tertiary|     no|   7049|     no|  no|       1|  163|       2| failure|    yes|\n",
            "| 31|  management| married|secondary|     no|   8629|    yes|  no|       1|  184|       2| failure|    yes|\n",
            "| 53| blue-collar| married|secondary|     no|   1777|    yes|  no|       5|  154|       1| failure|    yes|\n",
            "| 31|     unknown| married|secondary|     no|    111|     no|  no|       2|   93|       2| failure|    yes|\n",
            "+---+------------+--------+---------+-------+-------+-------+----+--------+-----+--------+--------+-------+\n",
            "only showing top 20 rows\n",
            "\n"
          ],
          "name": "stdout"
        }
      ]
    },
    {
      "cell_type": "code",
      "metadata": {
        "id": "ukRzZ98HWdgQ",
        "colab_type": "code",
        "outputId": "5f4ddef4-a8f0-4feb-f9c3-35e53aee3384",
        "colab": {
          "base_uri": "https://localhost:8080/",
          "height": 54
        }
      },
      "source": [
        "print(\"The values of yes in deposit are {0}\".format(dftemp.filter(dftemp.deposit==\"yes\").count()))\n",
        "print(\"The values of no in deposit are {0}\".format(dftemp.filter(dftemp.deposit==\"no\").count()))"
      ],
      "execution_count": 13,
      "outputs": [
        {
          "output_type": "stream",
          "text": [
            "The values of yes in deposit are 1596\n",
            "The values of no in deposit are 703\n"
          ],
          "name": "stdout"
        }
      ]
    },
    {
      "cell_type": "code",
      "metadata": {
        "id": "PfekvbdOA45V",
        "colab_type": "code",
        "outputId": "2786307d-69b4-449b-e092-7f624b6fe358",
        "colab": {
          "base_uri": "https://localhost:8080/",
          "height": 35
        }
      },
      "source": [
        "print(\"The Nuumber of records after filteing poutcome {0}\".format(dftemp.count()))"
      ],
      "execution_count": 14,
      "outputs": [
        {
          "output_type": "stream",
          "text": [
            "The Nuumber of records after filteing poutcome 2299\n"
          ],
          "name": "stdout"
        }
      ]
    },
    {
      "cell_type": "code",
      "metadata": {
        "colab_type": "code",
        "id": "A_T8qvxzR-oI",
        "outputId": "119b22d0-a11d-4121-9ae1-1895887486d2",
        "colab": {
          "base_uri": "https://localhost:8080/",
          "height": 510
        }
      },
      "source": [
        "#the syntex are learnt using some help from spark.apache.org and towardsdatascience.com\n",
        "\n",
        "#Covert categorical features to metric features using One hot encoding\n",
        "from pyspark.ml import Pipeline\n",
        "from pyspark.ml.feature import StringIndexer, OneHotEncoderEstimator , OneHotEncoderModel , VectorAssembler\n",
        "\n",
        "#this code is to convert the categorical values to numberical indicies \n",
        "indexers = [StringIndexer(inputCol=column, outputCol=column+\"_index\").fit(df) for column in list(set(dftemp.columns)-set(['age','balance','campaign','pdays','previous'])) ]\n",
        "\n",
        "#this code is to encode the converted variable using one hot enocoding to vector forms\n",
        "encoder = OneHotEncoderEstimator(\n",
        "    inputCols=[indexer.getOutputCol() for indexer in indexers],\n",
        "    outputCols=[\n",
        "        \"{0}_Vec\".format(indexer.getOutputCol()) for indexer in indexers]\n",
        ")\n",
        "\n",
        "#we have this code of pipeline to run the stages of indexing and encoding on the data\n",
        "pipeline = Pipeline(stages=indexers + [encoder])\n",
        "dfNeww=pipeline.fit(dftemp).transform(dftemp)\n",
        "\n",
        "#defing the variables which are to be combined to form features\n",
        "cols = ['age',\n",
        " 'job_index',\n",
        " 'marital_index',\n",
        " 'education_index',\n",
        " 'default_index',\n",
        " 'balance',\n",
        " 'housing_index',\n",
        " 'loan_index',\n",
        " 'campaign',\n",
        " 'pdays',\n",
        " 'previous',\n",
        " 'poutcome_index',\n",
        " 'deposit_index']\n",
        "\n",
        "#the vector assembler here to combine all of the required variables in the form opf a vector under one column of feature\n",
        "assembler = VectorAssembler(inputCols=cols, outputCol='feature')\n",
        "dfNew = assembler.transform(dfNeww)\n",
        "\n",
        "dfNew.show()"
      ],
      "execution_count": 15,
      "outputs": [
        {
          "output_type": "stream",
          "text": [
            "+---+------------+--------+---------+-------+-------+-------+----+--------+-----+--------+--------+-------+---------------+----------+---------+-------------+-------------+--------------+-------------+-------------+--------------+------------------+--------------+-----------------+-----------------+-----------------+-----------------+-------------------+--------------------+\n",
            "|age|         job| marital|education|default|balance|housing|loan|campaign|pdays|previous|poutcome|deposit|education_index|loan_index|job_index|housing_index|default_index|poutcome_index|marital_index|deposit_index|loan_index_Vec|poutcome_index_Vec| job_index_Vec|default_index_Vec|housing_index_Vec|marital_index_Vec|deposit_index_Vec|education_index_Vec|             feature|\n",
            "+---+------------+--------+---------+-------+-------+-------+----+--------+-----+--------+--------+-------+---------------+----------+---------+-------------+-------------+--------------+-------------+-------------+--------------+------------------+--------------+-----------------+-----------------+-----------------+-----------------+-------------------+--------------------+\n",
            "| 33|    services| married|secondary|     no|   3444|    yes|  no|       1|   91|       4| failure|    yes|            0.0|       0.0|      4.0|          1.0|          0.0|           1.0|          0.0|          1.0| (1,[0],[1.0])|     (3,[1],[1.0])|(11,[4],[1.0])|    (1,[0],[1.0])|        (1,[],[])|    (2,[0],[1.0])|        (1,[],[])|      (3,[0],[1.0])|[33.0,4.0,0.0,0.0...|\n",
            "| 56|  technician| married|secondary|     no|    589|    yes|  no|       1|  147|       2| success|    yes|            0.0|       0.0|      2.0|          1.0|          0.0|           2.0|          0.0|          1.0| (1,[0],[1.0])|     (3,[2],[1.0])|(11,[2],[1.0])|    (1,[0],[1.0])|        (1,[],[])|    (2,[0],[1.0])|        (1,[],[])|      (3,[0],[1.0])|[56.0,2.0,0.0,0.0...|\n",
            "| 34|      admin.| married| tertiary|     no|    899|    yes|  no|       1|  170|       3| failure|    yes|            1.0|       0.0|      3.0|          1.0|          0.0|           1.0|          0.0|          1.0| (1,[0],[1.0])|     (3,[1],[1.0])|(11,[3],[1.0])|    (1,[0],[1.0])|        (1,[],[])|    (2,[0],[1.0])|        (1,[],[])|      (3,[1],[1.0])|[34.0,3.0,0.0,1.0...|\n",
            "| 53|     retired| married| tertiary|     no|   2269|     no|  no|       2|  150|       1| success|    yes|            1.0|       0.0|      5.0|          0.0|          0.0|           2.0|          0.0|          1.0| (1,[0],[1.0])|     (3,[2],[1.0])|(11,[5],[1.0])|    (1,[0],[1.0])|    (1,[0],[1.0])|    (2,[0],[1.0])|        (1,[],[])|      (3,[1],[1.0])|[53.0,5.0,0.0,1.0...|\n",
            "| 37|  technician| married|secondary|     no|   5115|    yes|  no|       2|  171|       4| failure|    yes|            0.0|       0.0|      2.0|          1.0|          0.0|           1.0|          0.0|          1.0| (1,[0],[1.0])|     (3,[1],[1.0])|(11,[2],[1.0])|    (1,[0],[1.0])|        (1,[],[])|    (2,[0],[1.0])|        (1,[],[])|      (3,[0],[1.0])|[37.0,2.0,0.0,0.0...|\n",
            "| 45|entrepreneur| married|secondary|     no|    781|     no| yes|       2|  126|       2| failure|    yes|            0.0|       1.0|      9.0|          0.0|          0.0|           1.0|          0.0|          1.0|     (1,[],[])|     (3,[1],[1.0])|(11,[9],[1.0])|    (1,[0],[1.0])|    (1,[0],[1.0])|    (2,[0],[1.0])|        (1,[],[])|      (3,[0],[1.0])|[45.0,9.0,0.0,0.0...|\n",
            "| 46|  unemployed|divorced|secondary|     no|   3354|    yes|  no|       1|  174|       1| success|    yes|            0.0|       0.0|      8.0|          1.0|          0.0|           2.0|          2.0|          1.0| (1,[0],[1.0])|     (3,[2],[1.0])|(11,[8],[1.0])|    (1,[0],[1.0])|        (1,[],[])|        (2,[],[])|        (1,[],[])|      (3,[0],[1.0])|[46.0,8.0,2.0,0.0...|\n",
            "| 40|  management| married| tertiary|     no|   3352|    yes|  no|       2|   27|       1| success|    yes|            1.0|       0.0|      0.0|          1.0|          0.0|           2.0|          0.0|          1.0| (1,[0],[1.0])|     (3,[2],[1.0])|(11,[0],[1.0])|    (1,[0],[1.0])|        (1,[],[])|    (2,[0],[1.0])|        (1,[],[])|      (3,[1],[1.0])|[40.0,0.0,0.0,1.0...|\n",
            "| 32|  technician| married| tertiary|     no|   4654|    yes| yes|       1|  128|       2| failure|    yes|            1.0|       1.0|      2.0|          1.0|          0.0|           1.0|          0.0|          1.0|     (1,[],[])|     (3,[1],[1.0])|(11,[2],[1.0])|    (1,[0],[1.0])|        (1,[],[])|    (2,[0],[1.0])|        (1,[],[])|      (3,[1],[1.0])|[32.0,2.0,0.0,1.0...|\n",
            "| 30| blue-collar| married|secondary|     no|    501|    yes| yes|       1|  177|       1| failure|    yes|            0.0|       1.0|      1.0|          1.0|          0.0|           1.0|          0.0|          1.0|     (1,[],[])|     (3,[1],[1.0])|(11,[1],[1.0])|    (1,[0],[1.0])|        (1,[],[])|    (2,[0],[1.0])|        (1,[],[])|      (3,[0],[1.0])|[30.0,1.0,0.0,0.0...|\n",
            "| 46|  technician| married| tertiary|     no|      0|     no|  no|       1|  167|       1| failure|    yes|            1.0|       0.0|      2.0|          0.0|          0.0|           1.0|          0.0|          1.0| (1,[0],[1.0])|     (3,[1],[1.0])|(11,[2],[1.0])|    (1,[0],[1.0])|    (1,[0],[1.0])|    (2,[0],[1.0])|        (1,[],[])|      (3,[1],[1.0])|[46.0,2.0,0.0,1.0...|\n",
            "| 38|entrepreneur| married| tertiary|     no|   1110|    yes|  no|       2|  183|       2| failure|    yes|            1.0|       0.0|      9.0|          1.0|          0.0|           1.0|          0.0|          1.0| (1,[0],[1.0])|     (3,[1],[1.0])|(11,[9],[1.0])|    (1,[0],[1.0])|        (1,[],[])|    (2,[0],[1.0])|        (1,[],[])|      (3,[1],[1.0])|[38.0,9.0,0.0,1.0...|\n",
            "| 32|    services| married|secondary|     no|    983|    yes|  no|       2|  133|       1| failure|    yes|            0.0|       0.0|      4.0|          1.0|          0.0|           1.0|          0.0|          1.0| (1,[0],[1.0])|     (3,[1],[1.0])|(11,[4],[1.0])|    (1,[0],[1.0])|        (1,[],[])|    (2,[0],[1.0])|        (1,[],[])|      (3,[0],[1.0])|[32.0,4.0,0.0,0.0...|\n",
            "| 31|  unemployed| married|secondary|     no|    314|    yes|  no|       3|  178|       7| failure|    yes|            0.0|       0.0|      8.0|          1.0|          0.0|           1.0|          0.0|          1.0| (1,[0],[1.0])|     (3,[1],[1.0])|(11,[8],[1.0])|    (1,[0],[1.0])|        (1,[],[])|    (2,[0],[1.0])|        (1,[],[])|      (3,[0],[1.0])|[31.0,8.0,0.0,0.0...|\n",
            "| 50| blue-collar| married|  primary|     no|  12519|    yes|  no|       3|   34|       1| failure|    yes|            2.0|       0.0|      1.0|          1.0|          0.0|           1.0|          0.0|          1.0| (1,[0],[1.0])|     (3,[1],[1.0])|(11,[1],[1.0])|    (1,[0],[1.0])|        (1,[],[])|    (2,[0],[1.0])|        (1,[],[])|      (3,[2],[1.0])|[50.0,1.0,0.0,2.0...|\n",
            "| 47|  technician| married|secondary|     no|      0|     no|  no|       1|   10|       1| failure|    yes|            0.0|       0.0|      2.0|          0.0|          0.0|           1.0|          0.0|          1.0| (1,[0],[1.0])|     (3,[1],[1.0])|(11,[2],[1.0])|    (1,[0],[1.0])|    (1,[0],[1.0])|    (2,[0],[1.0])|        (1,[],[])|      (3,[0],[1.0])|(13,[0,1,8,9,10,1...|\n",
            "| 59|  management| married| tertiary|     no|   7049|     no|  no|       1|  163|       2| failure|    yes|            1.0|       0.0|      0.0|          0.0|          0.0|           1.0|          0.0|          1.0| (1,[0],[1.0])|     (3,[1],[1.0])|(11,[0],[1.0])|    (1,[0],[1.0])|    (1,[0],[1.0])|    (2,[0],[1.0])|        (1,[],[])|      (3,[1],[1.0])|[59.0,0.0,0.0,1.0...|\n",
            "| 31|  management| married|secondary|     no|   8629|    yes|  no|       1|  184|       2| failure|    yes|            0.0|       0.0|      0.0|          1.0|          0.0|           1.0|          0.0|          1.0| (1,[0],[1.0])|     (3,[1],[1.0])|(11,[0],[1.0])|    (1,[0],[1.0])|        (1,[],[])|    (2,[0],[1.0])|        (1,[],[])|      (3,[0],[1.0])|[31.0,0.0,0.0,0.0...|\n",
            "| 53| blue-collar| married|secondary|     no|   1777|    yes|  no|       5|  154|       1| failure|    yes|            0.0|       0.0|      1.0|          1.0|          0.0|           1.0|          0.0|          1.0| (1,[0],[1.0])|     (3,[1],[1.0])|(11,[1],[1.0])|    (1,[0],[1.0])|        (1,[],[])|    (2,[0],[1.0])|        (1,[],[])|      (3,[0],[1.0])|[53.0,1.0,0.0,0.0...|\n",
            "| 31|     unknown| married|secondary|     no|    111|     no|  no|       2|   93|       2| failure|    yes|            0.0|       0.0|     11.0|          0.0|          0.0|           1.0|          0.0|          1.0| (1,[0],[1.0])|     (3,[1],[1.0])|    (11,[],[])|    (1,[0],[1.0])|    (1,[0],[1.0])|    (2,[0],[1.0])|        (1,[],[])|      (3,[0],[1.0])|[31.0,11.0,0.0,0....|\n",
            "+---+------------+--------+---------+-------+-------+-------+----+--------+-----+--------+--------+-------+---------------+----------+---------+-------------+-------------+--------------+-------------+-------------+--------------+------------------+--------------+-----------------+-----------------+-----------------+-----------------+-------------------+--------------------+\n",
            "only showing top 20 rows\n",
            "\n"
          ],
          "name": "stdout"
        }
      ]
    },
    {
      "cell_type": "markdown",
      "metadata": {
        "colab_type": "text",
        "id": "pOqHERYJCQuC"
      },
      "source": [
        "## 3.1 normalisation"
      ]
    },
    {
      "cell_type": "code",
      "metadata": {
        "colab_type": "code",
        "id": "cfL6_sca5VwI",
        "outputId": "a5355459-06ab-471c-f2b7-b5bf1aa3e4e9",
        "colab": {
          "base_uri": "https://localhost:8080/",
          "height": 237
        }
      },
      "source": [
        "#Apply Min-Max normalisation on each attribute using MinMaxScaler  \n",
        "from pyspark.ml.feature import MinMaxScaler \n",
        "\n",
        "#we use the MinMax scaler library to convert the features column formed in scaled form into a new column of features\n",
        "scaler1 = MinMaxScaler(inputCol=\"feature\", outputCol=\"features\")\n",
        "scalerModel1 = scaler1.fit(dfNew)\n",
        "scaledData1 = scalerModel1.transform(dfNew)\n",
        "scaledData1.show(5)\n",
        "\n",
        "\n",
        "\n",
        "\n",
        "\n"
      ],
      "execution_count": 16,
      "outputs": [
        {
          "output_type": "stream",
          "text": [
            "+---+----------+-------+---------+-------+-------+-------+----+--------+-----+--------+--------+-------+---------------+----------+---------+-------------+-------------+--------------+-------------+-------------+--------------+------------------+--------------+-----------------+-----------------+-----------------+-----------------+-------------------+--------------------+--------------------+\n",
            "|age|       job|marital|education|default|balance|housing|loan|campaign|pdays|previous|poutcome|deposit|education_index|loan_index|job_index|housing_index|default_index|poutcome_index|marital_index|deposit_index|loan_index_Vec|poutcome_index_Vec| job_index_Vec|default_index_Vec|housing_index_Vec|marital_index_Vec|deposit_index_Vec|education_index_Vec|             feature|            features|\n",
            "+---+----------+-------+---------+-------+-------+-------+----+--------+-----+--------+--------+-------+---------------+----------+---------+-------------+-------------+--------------+-------------+-------------+--------------+------------------+--------------+-----------------+-----------------+-----------------+-----------------+-------------------+--------------------+--------------------+\n",
            "| 33|  services|married|secondary|     no|   3444|    yes|  no|       1|   91|       4| failure|    yes|            0.0|       0.0|      4.0|          1.0|          0.0|           1.0|          0.0|          1.0| (1,[0],[1.0])|     (3,[1],[1.0])|(11,[4],[1.0])|    (1,[0],[1.0])|        (1,[],[])|    (2,[0],[1.0])|        (1,[],[])|      (3,[0],[1.0])|[33.0,4.0,0.0,0.0...|[0.2,0.3636363636...|\n",
            "| 56|technician|married|secondary|     no|    589|    yes|  no|       1|  147|       2| success|    yes|            0.0|       0.0|      2.0|          1.0|          0.0|           2.0|          0.0|          1.0| (1,[0],[1.0])|     (3,[2],[1.0])|(11,[2],[1.0])|    (1,[0],[1.0])|        (1,[],[])|    (2,[0],[1.0])|        (1,[],[])|      (3,[0],[1.0])|[56.0,2.0,0.0,0.0...|[0.50666666666666...|\n",
            "| 34|    admin.|married| tertiary|     no|    899|    yes|  no|       1|  170|       3| failure|    yes|            1.0|       0.0|      3.0|          1.0|          0.0|           1.0|          0.0|          1.0| (1,[0],[1.0])|     (3,[1],[1.0])|(11,[3],[1.0])|    (1,[0],[1.0])|        (1,[],[])|    (2,[0],[1.0])|        (1,[],[])|      (3,[1],[1.0])|[34.0,3.0,0.0,1.0...|[0.21333333333333...|\n",
            "| 53|   retired|married| tertiary|     no|   2269|     no|  no|       2|  150|       1| success|    yes|            1.0|       0.0|      5.0|          0.0|          0.0|           2.0|          0.0|          1.0| (1,[0],[1.0])|     (3,[2],[1.0])|(11,[5],[1.0])|    (1,[0],[1.0])|    (1,[0],[1.0])|    (2,[0],[1.0])|        (1,[],[])|      (3,[1],[1.0])|[53.0,5.0,0.0,1.0...|[0.46666666666666...|\n",
            "| 37|technician|married|secondary|     no|   5115|    yes|  no|       2|  171|       4| failure|    yes|            0.0|       0.0|      2.0|          1.0|          0.0|           1.0|          0.0|          1.0| (1,[0],[1.0])|     (3,[1],[1.0])|(11,[2],[1.0])|    (1,[0],[1.0])|        (1,[],[])|    (2,[0],[1.0])|        (1,[],[])|      (3,[0],[1.0])|[37.0,2.0,0.0,0.0...|[0.25333333333333...|\n",
            "+---+----------+-------+---------+-------+-------+-------+----+--------+-----+--------+--------+-------+---------------+----------+---------+-------------+-------------+--------------+-------------+-------------+--------------+------------------+--------------+-----------------+-----------------+-----------------+-----------------+-------------------+--------------------+--------------------+\n",
            "only showing top 5 rows\n",
            "\n"
          ],
          "name": "stdout"
        }
      ]
    },
    {
      "cell_type": "markdown",
      "metadata": {
        "colab_type": "text",
        "id": "9trUY7ZgCzhW"
      },
      "source": [
        "# 4.Unsupervised learning"
      ]
    },
    {
      "cell_type": "markdown",
      "metadata": {
        "colab_type": "text",
        "id": "KTQfUch2Cmmi"
      },
      "source": [
        "## 4.1 K-means"
      ]
    },
    {
      "cell_type": "code",
      "metadata": {
        "colab_type": "code",
        "id": "dGGZI70Ohqgg",
        "outputId": "77a89478-284a-446e-8f4f-e5abbde79331",
        "colab": {
          "base_uri": "https://localhost:8080/",
          "height": 928
        }
      },
      "source": [
        "#the syntex are learnt using some help from spark.apache.org and towardsdatascience.com\n",
        "# Perform unsupervised learning on df2 with k-means \n",
        "# You can use whole df2 as both training and testing data, \n",
        "# Evaluate the clustering result using Accuracy.  \n",
        "from pyspark.ml.clustering import KMeans\n",
        "from pyspark.ml.evaluation import ClusteringEvaluator\n",
        "from pyspark.ml.evaluation import MulticlassClassificationEvaluator\n",
        "from pyspark.ml.evaluation import BinaryClassificationEvaluator \n",
        "\n",
        "#We use the kMeans for clustering of the scaled Data with setting nummber of clusters to 13 and perform the model on the scaledData\n",
        "kmeans = KMeans(k=7, seed=1)  # 7 clusters here optimal number of clusters from elbow analysis done below\n",
        "model = kmeans.fit(scaledData1.select('features'))\n",
        "\n",
        "#this transforms the data and adds a new column of prediction in the dataframe\n",
        "ClusteredData = model.transform(scaledData1)\n",
        "ClusteredData.show()    \n",
        "\n",
        "#we use the  Clustering evaluator to evaluate the clusters formed using the Kmeans to check the accuracy of our clustering \n",
        "evaluator = ClusteringEvaluator()\n",
        "\n",
        "silhouette = evaluator.evaluate(ClusteredData)\n",
        "print(\"Silhouette with squared euclidean distance = \" + str(silhouette))\n",
        "\n",
        "centers = model.clusterCenters()\n",
        "print(\"Cluster Centers: \")\n",
        "for center in centers:\n",
        "  print(center)\n",
        "\n"
      ],
      "execution_count": 17,
      "outputs": [
        {
          "output_type": "stream",
          "text": [
            "+---+------------+--------+---------+-------+-------+-------+----+--------+-----+--------+--------+-------+---------------+----------+---------+-------------+-------------+--------------+-------------+-------------+--------------+------------------+--------------+-----------------+-----------------+-----------------+-----------------+-------------------+--------------------+--------------------+----------+\n",
            "|age|         job| marital|education|default|balance|housing|loan|campaign|pdays|previous|poutcome|deposit|education_index|loan_index|job_index|housing_index|default_index|poutcome_index|marital_index|deposit_index|loan_index_Vec|poutcome_index_Vec| job_index_Vec|default_index_Vec|housing_index_Vec|marital_index_Vec|deposit_index_Vec|education_index_Vec|             feature|            features|prediction|\n",
            "+---+------------+--------+---------+-------+-------+-------+----+--------+-----+--------+--------+-------+---------------+----------+---------+-------------+-------------+--------------+-------------+-------------+--------------+------------------+--------------+-----------------+-----------------+-----------------+-----------------+-------------------+--------------------+--------------------+----------+\n",
            "| 33|    services| married|secondary|     no|   3444|    yes|  no|       1|   91|       4| failure|    yes|            0.0|       0.0|      4.0|          1.0|          0.0|           1.0|          0.0|          1.0| (1,[0],[1.0])|     (3,[1],[1.0])|(11,[4],[1.0])|    (1,[0],[1.0])|        (1,[],[])|    (2,[0],[1.0])|        (1,[],[])|      (3,[0],[1.0])|[33.0,4.0,0.0,0.0...|[0.2,0.3636363636...|         1|\n",
            "| 56|  technician| married|secondary|     no|    589|    yes|  no|       1|  147|       2| success|    yes|            0.0|       0.0|      2.0|          1.0|          0.0|           2.0|          0.0|          1.0| (1,[0],[1.0])|     (3,[2],[1.0])|(11,[2],[1.0])|    (1,[0],[1.0])|        (1,[],[])|    (2,[0],[1.0])|        (1,[],[])|      (3,[0],[1.0])|[56.0,2.0,0.0,0.0...|[0.50666666666666...|         2|\n",
            "| 34|      admin.| married| tertiary|     no|    899|    yes|  no|       1|  170|       3| failure|    yes|            1.0|       0.0|      3.0|          1.0|          0.0|           1.0|          0.0|          1.0| (1,[0],[1.0])|     (3,[1],[1.0])|(11,[3],[1.0])|    (1,[0],[1.0])|        (1,[],[])|    (2,[0],[1.0])|        (1,[],[])|      (3,[1],[1.0])|[34.0,3.0,0.0,1.0...|[0.21333333333333...|         1|\n",
            "| 53|     retired| married| tertiary|     no|   2269|     no|  no|       2|  150|       1| success|    yes|            1.0|       0.0|      5.0|          0.0|          0.0|           2.0|          0.0|          1.0| (1,[0],[1.0])|     (3,[2],[1.0])|(11,[5],[1.0])|    (1,[0],[1.0])|    (1,[0],[1.0])|    (2,[0],[1.0])|        (1,[],[])|      (3,[1],[1.0])|[53.0,5.0,0.0,1.0...|[0.46666666666666...|         0|\n",
            "| 37|  technician| married|secondary|     no|   5115|    yes|  no|       2|  171|       4| failure|    yes|            0.0|       0.0|      2.0|          1.0|          0.0|           1.0|          0.0|          1.0| (1,[0],[1.0])|     (3,[1],[1.0])|(11,[2],[1.0])|    (1,[0],[1.0])|        (1,[],[])|    (2,[0],[1.0])|        (1,[],[])|      (3,[0],[1.0])|[37.0,2.0,0.0,0.0...|[0.25333333333333...|         1|\n",
            "| 45|entrepreneur| married|secondary|     no|    781|     no| yes|       2|  126|       2| failure|    yes|            0.0|       1.0|      9.0|          0.0|          0.0|           1.0|          0.0|          1.0|     (1,[],[])|     (3,[1],[1.0])|(11,[9],[1.0])|    (1,[0],[1.0])|    (1,[0],[1.0])|    (2,[0],[1.0])|        (1,[],[])|      (3,[0],[1.0])|[45.0,9.0,0.0,0.0...|[0.36,0.818181818...|         6|\n",
            "| 46|  unemployed|divorced|secondary|     no|   3354|    yes|  no|       1|  174|       1| success|    yes|            0.0|       0.0|      8.0|          1.0|          0.0|           2.0|          2.0|          1.0| (1,[0],[1.0])|     (3,[2],[1.0])|(11,[8],[1.0])|    (1,[0],[1.0])|        (1,[],[])|        (2,[],[])|        (1,[],[])|      (3,[0],[1.0])|[46.0,8.0,2.0,0.0...|[0.37333333333333...|         2|\n",
            "| 40|  management| married| tertiary|     no|   3352|    yes|  no|       2|   27|       1| success|    yes|            1.0|       0.0|      0.0|          1.0|          0.0|           2.0|          0.0|          1.0| (1,[0],[1.0])|     (3,[2],[1.0])|(11,[0],[1.0])|    (1,[0],[1.0])|        (1,[],[])|    (2,[0],[1.0])|        (1,[],[])|      (3,[1],[1.0])|[40.0,0.0,0.0,1.0...|[0.29333333333333...|         2|\n",
            "| 32|  technician| married| tertiary|     no|   4654|    yes| yes|       1|  128|       2| failure|    yes|            1.0|       1.0|      2.0|          1.0|          0.0|           1.0|          0.0|          1.0|     (1,[],[])|     (3,[1],[1.0])|(11,[2],[1.0])|    (1,[0],[1.0])|        (1,[],[])|    (2,[0],[1.0])|        (1,[],[])|      (3,[1],[1.0])|[32.0,2.0,0.0,1.0...|[0.18666666666666...|         1|\n",
            "| 30| blue-collar| married|secondary|     no|    501|    yes| yes|       1|  177|       1| failure|    yes|            0.0|       1.0|      1.0|          1.0|          0.0|           1.0|          0.0|          1.0|     (1,[],[])|     (3,[1],[1.0])|(11,[1],[1.0])|    (1,[0],[1.0])|        (1,[],[])|    (2,[0],[1.0])|        (1,[],[])|      (3,[0],[1.0])|[30.0,1.0,0.0,0.0...|[0.16,0.090909090...|         1|\n",
            "| 46|  technician| married| tertiary|     no|      0|     no|  no|       1|  167|       1| failure|    yes|            1.0|       0.0|      2.0|          0.0|          0.0|           1.0|          0.0|          1.0| (1,[0],[1.0])|     (3,[1],[1.0])|(11,[2],[1.0])|    (1,[0],[1.0])|    (1,[0],[1.0])|    (2,[0],[1.0])|        (1,[],[])|      (3,[1],[1.0])|[46.0,2.0,0.0,1.0...|[0.37333333333333...|         6|\n",
            "| 38|entrepreneur| married| tertiary|     no|   1110|    yes|  no|       2|  183|       2| failure|    yes|            1.0|       0.0|      9.0|          1.0|          0.0|           1.0|          0.0|          1.0| (1,[0],[1.0])|     (3,[1],[1.0])|(11,[9],[1.0])|    (1,[0],[1.0])|        (1,[],[])|    (2,[0],[1.0])|        (1,[],[])|      (3,[1],[1.0])|[38.0,9.0,0.0,1.0...|[0.26666666666666...|         1|\n",
            "| 32|    services| married|secondary|     no|    983|    yes|  no|       2|  133|       1| failure|    yes|            0.0|       0.0|      4.0|          1.0|          0.0|           1.0|          0.0|          1.0| (1,[0],[1.0])|     (3,[1],[1.0])|(11,[4],[1.0])|    (1,[0],[1.0])|        (1,[],[])|    (2,[0],[1.0])|        (1,[],[])|      (3,[0],[1.0])|[32.0,4.0,0.0,0.0...|[0.18666666666666...|         1|\n",
            "| 31|  unemployed| married|secondary|     no|    314|    yes|  no|       3|  178|       7| failure|    yes|            0.0|       0.0|      8.0|          1.0|          0.0|           1.0|          0.0|          1.0| (1,[0],[1.0])|     (3,[1],[1.0])|(11,[8],[1.0])|    (1,[0],[1.0])|        (1,[],[])|    (2,[0],[1.0])|        (1,[],[])|      (3,[0],[1.0])|[31.0,8.0,0.0,0.0...|[0.17333333333333...|         1|\n",
            "| 50| blue-collar| married|  primary|     no|  12519|    yes|  no|       3|   34|       1| failure|    yes|            2.0|       0.0|      1.0|          1.0|          0.0|           1.0|          0.0|          1.0| (1,[0],[1.0])|     (3,[1],[1.0])|(11,[1],[1.0])|    (1,[0],[1.0])|        (1,[],[])|    (2,[0],[1.0])|        (1,[],[])|      (3,[2],[1.0])|[50.0,1.0,0.0,2.0...|[0.42666666666666...|         1|\n",
            "| 47|  technician| married|secondary|     no|      0|     no|  no|       1|   10|       1| failure|    yes|            0.0|       0.0|      2.0|          0.0|          0.0|           1.0|          0.0|          1.0| (1,[0],[1.0])|     (3,[1],[1.0])|(11,[2],[1.0])|    (1,[0],[1.0])|    (1,[0],[1.0])|    (2,[0],[1.0])|        (1,[],[])|      (3,[0],[1.0])|(13,[0,1,8,9,10,1...|[0.38666666666666...|         6|\n",
            "| 59|  management| married| tertiary|     no|   7049|     no|  no|       1|  163|       2| failure|    yes|            1.0|       0.0|      0.0|          0.0|          0.0|           1.0|          0.0|          1.0| (1,[0],[1.0])|     (3,[1],[1.0])|(11,[0],[1.0])|    (1,[0],[1.0])|    (1,[0],[1.0])|    (2,[0],[1.0])|        (1,[],[])|      (3,[1],[1.0])|[59.0,0.0,0.0,1.0...|[0.54666666666666...|         6|\n",
            "| 31|  management| married|secondary|     no|   8629|    yes|  no|       1|  184|       2| failure|    yes|            0.0|       0.0|      0.0|          1.0|          0.0|           1.0|          0.0|          1.0| (1,[0],[1.0])|     (3,[1],[1.0])|(11,[0],[1.0])|    (1,[0],[1.0])|        (1,[],[])|    (2,[0],[1.0])|        (1,[],[])|      (3,[0],[1.0])|[31.0,0.0,0.0,0.0...|[0.17333333333333...|         1|\n",
            "| 53| blue-collar| married|secondary|     no|   1777|    yes|  no|       5|  154|       1| failure|    yes|            0.0|       0.0|      1.0|          1.0|          0.0|           1.0|          0.0|          1.0| (1,[0],[1.0])|     (3,[1],[1.0])|(11,[1],[1.0])|    (1,[0],[1.0])|        (1,[],[])|    (2,[0],[1.0])|        (1,[],[])|      (3,[0],[1.0])|[53.0,1.0,0.0,0.0...|[0.46666666666666...|         1|\n",
            "| 31|     unknown| married|secondary|     no|    111|     no|  no|       2|   93|       2| failure|    yes|            0.0|       0.0|     11.0|          0.0|          0.0|           1.0|          0.0|          1.0| (1,[0],[1.0])|     (3,[1],[1.0])|    (11,[],[])|    (1,[0],[1.0])|    (1,[0],[1.0])|    (2,[0],[1.0])|        (1,[],[])|      (3,[0],[1.0])|[31.0,11.0,0.0,0....|[0.17333333333333...|         6|\n",
            "+---+------------+--------+---------+-------+-------+-------+----+--------+-----+--------+--------+-------+---------------+----------+---------+-------------+-------------+--------------+-------------+-------------+--------------+------------------+--------------+-----------------+-----------------+-----------------+-----------------+-------------------+--------------------+--------------------+----------+\n",
            "only showing top 20 rows\n",
            "\n",
            "Silhouette with squared euclidean distance = 0.4792914827858234\n",
            "Cluster Centers: \n",
            "[0.4485431  0.28916164 0.         0.25858124 0.         0.04131254\n",
            " 0.         0.04347826 0.07031413 0.17521415 0.04076617 1.\n",
            " 0.93592677]\n",
            "[0.27263889 0.2209596  0.29166667 0.19907407 0.01041667 0.03377427\n",
            " 1.         0.14583333 0.07607323 0.30306028 0.04597479 0.\n",
            " 1.        ]\n",
            "[0.30457888 0.21158201 0.28825623 0.21708185 0.         0.03175411\n",
            " 1.         0.0747331  0.0634099  0.22404492 0.04632925 1.\n",
            " 0.886121  ]\n",
            "[0.29247024 0.21286526 0.23549107 0.2046131  0.00892857 0.02949112\n",
            " 1.         0.19866071 0.08948864 0.3025247  0.03385417 0.00446429\n",
            " 0.        ]\n",
            "[0.3198374  0.27494457 0.27743902 0.22764228 0.00609756 0.03013946\n",
            " 0.         0.1402439  0.10254989 0.22958425 0.041215   0.\n",
            " 0.        ]\n",
            "[0.23365622 0.31986532 0.5997151  0.26495726 0.         0.03852076\n",
            " 0.         0.02564103 0.06682207 0.1754124  0.0320249  1.\n",
            " 0.91168091]\n",
            "[0.34690909 0.3030303  0.24090909 0.27979798 0.         0.03681266\n",
            " 0.         0.04848485 0.06198347 0.24415432 0.03282828 0.\n",
            " 1.        ]\n"
          ],
          "name": "stdout"
        }
      ]
    },
    {
      "cell_type": "code",
      "metadata": {
        "id": "1FMuJuxEMSJ6",
        "colab_type": "code",
        "colab": {}
      },
      "source": [
        "import numpy as np\n",
        "cost = np.zeros(20)\n",
        "for k in range(2,20):\n",
        "    kmeans = KMeans()\\\n",
        "            .setK(k)\\\n",
        "            .setSeed(1) \\\n",
        "            .setFeaturesCol(\"features\")\\\n",
        "            .setPredictionCol(\"cluster\")\n",
        "\n",
        "    model = kmeans.fit(scaledData1)\n",
        "    cost[k] = model.computeCost(scaledData1)"
      ],
      "execution_count": 0,
      "outputs": []
    },
    {
      "cell_type": "code",
      "metadata": {
        "id": "l0IKUyw9Og_o",
        "colab_type": "code",
        "outputId": "b27f8c33-08ef-4ac9-de19-141421a5fb33",
        "colab": {
          "base_uri": "https://localhost:8080/",
          "height": 393
        }
      },
      "source": [
        "import numpy as np\n",
        "import matplotlib.mlab as mlab\n",
        "import matplotlib.pyplot as plt\n",
        "import seaborn as sbs\n",
        "from matplotlib.ticker import MaxNLocator\n",
        "\n",
        "fig, ax = plt.subplots(1,1, figsize =(8,6))\n",
        "ax.plot(range(2,20),cost[2:20])\n",
        "ax.set_xlabel('k')\n",
        "ax.set_ylabel('cost')\n",
        "ax.xaxis.set_major_locator(MaxNLocator(integer=True))\n",
        "plt.show()"
      ],
      "execution_count": 19,
      "outputs": [
        {
          "output_type": "display_data",
          "data": {
            "image/png": "[encoded data removed]",
            "text/plain": [
              "<Figure size 576x432 with 1 Axes>"
            ]
          },
          "metadata": {
            "tags": []
          }
        }
      ]
    },
    {
      "cell_type": "markdown",
      "metadata": {
        "colab_type": "text",
        "id": "FHom8o2KCt36"
      },
      "source": [
        "## 4.2 PCA"
      ]
    },
    {
      "cell_type": "code",
      "metadata": {
        "colab_type": "code",
        "id": "wT4cx5uGTjmj",
        "outputId": "5f4c28c8-5177-4d09-ea04-0dd1721470a7",
        "colab": {
          "base_uri": "https://localhost:8080/",
          "height": 302
        }
      },
      "source": [
        "#the syntex are learnt using some help from spark.apache.org and towardsdatascience.com\n",
        "#Generate a scatter plot using the first two PCA components to investigate the data distribution.\n",
        "from pyspark.ml.feature import PCA\n",
        "from pyspark.ml.linalg import Vectors\n",
        "import numpy as np\n",
        "import matplotlib.pyplot as plt\n",
        "from mpl_toolkits.mplot3d import Axes3D\n",
        "import pandas as pd\n",
        "\n",
        "#we initilaize the pca setting k equal to 2 which are the components to reduced to\n",
        "#input column as features and output as pca\n",
        "pca = PCA(k=2, inputCol=\"features\", outputCol=\"pca\")\n",
        "model = pca.fit(scaledData1)\n",
        "\n",
        "#use transform function to transfrom the scaledData\n",
        "transformed1 = model.transform(scaledData1)\n",
        "data=transformed1.select('pca')\n",
        "\n",
        "#to get the explained variances of the two reduced principle components \n",
        "variance=np.round(100.00*model.explainedVariance.toArray(),4)\n",
        "ex_variance = model.explainedVariance\n",
        "print(\"The varance explained by pc1 and pc2 are {0}\".format(variance))\n",
        "pc=model.pc.toArray()\n",
        "pc=pc.reshape(2,13)\n",
        "  \n",
        "#to get the first two component eigen vectors\n",
        "components = pd.DataFrame(pc, columns = df2.columns, index=[1,2])\n",
        "x=pc[0,:]\n",
        "y=pc[1,:]\n",
        "\n",
        "#set the types of variables with column names\n",
        "types = ['age', 'job', 'marital', 'education', 'default', 'balance', 'housing', 'loan', 'campaign', 'pdays', 'previous', 'poutcome', 'deposit']\n",
        "\n",
        "#plot the principle components with there labels on the scatter plot\n",
        "for i,type in enumerate(types):\n",
        "    x_coords= x[i]\n",
        "    y_coords = y[i]\n",
        "    \n",
        "    plt.scatter(x_coords, y_coords, marker='x', color='red')\n",
        "    plt.text(x_coords, y_coords, type, fontsize=9)\n",
        "    plt.xlabel(\"PC1\")\n",
        "    plt.ylabel(\"PC2\")\n",
        "plt.show()\n"
      ],
      "execution_count": 20,
      "outputs": [
        {
          "output_type": "stream",
          "text": [
            "The varance explained by pc1 and pc2 are [37.7313 15.6113]\n"
          ],
          "name": "stdout"
        },
        {
          "output_type": "display_data",
          "data": {
            "image/png": "[encoded data removed]",
            "text/plain": [
              "<Figure size 432x288 with 1 Axes>"
            ]
          },
          "metadata": {
            "tags": []
          }
        }
      ]
    },
    {
      "cell_type": "markdown",
      "metadata": {
        "colab_type": "text",
        "id": "ulp_uILXCv4Z"
      },
      "source": [
        "\n",
        "# 5.Supervised learning"
      ]
    },
    {
      "cell_type": "code",
      "metadata": {
        "colab_type": "code",
        "id": "0O7tszcPfnHN",
        "outputId": "5fbbc1cd-e95f-49f5-da2b-bf9ec2e095cf",
        "colab": {
          "base_uri": "https://localhost:8080/",
          "height": 54
        }
      },
      "source": [
        "#the syntex are learnt using some help from spark.apache.org and towardsdatascience.com\n",
        "from pyspark.sql.functions import col\n",
        "\n",
        "#set the logisticData variable as the required dataframe to performe the supervised learning\n",
        "logisticData=scaledData1.select('age',\n",
        " 'job_index',\n",
        " 'marital_index',\n",
        " 'education_index',\n",
        " 'default_index',\n",
        " 'balance',\n",
        " 'housing_index',\n",
        " 'loan_index',\n",
        " 'campaign',\n",
        " 'pdays',\n",
        " 'previous',\n",
        " 'poutcome_index',\n",
        " col(\"deposit_index\").alias(\"label\"),'features')\n",
        "\n",
        "#divide the data into training and testing data with 70 and 30 percent ratio\n",
        "train, test = logisticData.randomSplit([0.7, 0.3], seed = 742)\n",
        "print(\"Training Dataset Count: \" + str(train.count()))\n",
        "print(\"Test Dataset Count: \" + str(test.count()))"
      ],
      "execution_count": 21,
      "outputs": [
        {
          "output_type": "stream",
          "text": [
            "Training Dataset Count: 1615\n",
            "Test Dataset Count: 684\n"
          ],
          "name": "stdout"
        }
      ]
    },
    {
      "cell_type": "markdown",
      "metadata": {
        "colab_type": "text",
        "id": "2SsHdh7YC-eN"
      },
      "source": [
        "## 5.1 LogisticRegression"
      ]
    },
    {
      "cell_type": "code",
      "metadata": {
        "colab_type": "code",
        "id": "Vqo_ywFQYxSj",
        "colab": {}
      },
      "source": [
        "#the syntex are learnt using some help from spark.apache.org and towardsdatascience.com\n",
        "# Logistic Regression\n",
        "from pyspark.ml.classification import LogisticRegression\n",
        "from pyspark.ml.evaluation import MulticlassClassificationEvaluator\n",
        "from pyspark.ml.evaluation import BinaryClassificationEvaluator \n",
        "\n",
        "#performing the logistic regression model of spark\n",
        "#input column as features and the lebel column as label which the variable of interest that is deposit here\n",
        "lr = LogisticRegression(featuresCol = 'features', labelCol = 'label', maxIter=10)\n",
        "lr_Model = lr.fit(train)\n",
        "\n",
        "\n",
        "\n",
        "\n"
      ],
      "execution_count": 0,
      "outputs": []
    },
    {
      "cell_type": "code",
      "metadata": {
        "colab_type": "code",
        "id": "hANwFUzhgG83",
        "outputId": "8da800e5-a66f-4994-ec87-aefcb05dc2de",
        "colab": {
          "base_uri": "https://localhost:8080/",
          "height": 419
        }
      },
      "source": [
        "#Exam the coefficients\n",
        "#to get the coeeficients of the variables for logistic regression\n",
        "coefficients = np.sort(lr_Model.coefficients)\n",
        "print(coefficients)\n",
        "\n",
        "#to get the ROC value of the regression\n",
        "summary=lr_Model.summary\n",
        "ROC=summary.areaUnderROC\n",
        "print(ROC)\n",
        "\n",
        "#prediction on test data\n",
        "predictions_logistic = lr_Model.transform(test)\n",
        "predictions_logistic.select('age', 'job_index','marital_index', 'education_index', 'default_index', 'balance', 'housing_index', 'loan_index', 'campaign', 'pdays', 'previous', 'poutcome_index', 'label', 'prediction', 'probability').show(10)\n",
        "\n",
        "#the evaluation part for the accuracy\n",
        "Evaluate = BinaryClassificationEvaluator()\n",
        "\n",
        "print('Test Area Under ROC', Evaluate.evaluate(predictions_logistic))"
      ],
      "execution_count": 23,
      "outputs": [
        {
          "output_type": "stream",
          "text": [
            "[-6.49621029 -5.83491529 -4.7030214  -4.13887764 -1.91093382 -1.38065349\n",
            " -1.28927482 -1.21337854 -0.83258525 -0.74008648  0.20288795  1.02935382\n",
            " 16.65021614]\n",
            "0.999956512600474\n",
            "+---+---------+-------------+---------------+-------------+-------+-------------+----------+--------+-----+--------+--------------+-----+----------+--------------------+\n",
            "|age|job_index|marital_index|education_index|default_index|balance|housing_index|loan_index|campaign|pdays|previous|poutcome_index|label|prediction|         probability|\n",
            "+---+---------+-------------+---------------+-------------+-------+-------------+----------+--------+-----+--------+--------------+-----+----------+--------------------+\n",
            "| 18|      7.0|          1.0|            2.0|          0.0|    608|          0.0|       0.0|       1|   93|       1|           2.0|  1.0|       1.0|[2.01045795574142...|\n",
            "| 19|      7.0|          1.0|            2.0|          0.0|    608|          0.0|       0.0|       1|  180|       2|           2.0|  1.0|       1.0|[3.90022791367816...|\n",
            "| 20|      7.0|          1.0|            0.0|          0.0|    215|          0.0|       0.0|       1|   92|       6|           2.0|  1.0|       1.0|[1.21159906112360...|\n",
            "| 21|      7.0|          1.0|            0.0|          0.0|    215|          0.0|       0.0|       1|   89|       7|           2.0|  1.0|       1.0|[1.26994501726552...|\n",
            "| 21|      7.0|          1.0|            0.0|          0.0|   2488|          0.0|       0.0|       6|  169|       3|           2.0|  1.0|       1.0|[1.77002059421498...|\n",
            "| 21|      7.0|          1.0|            2.0|          0.0|    423|          0.0|       0.0|       5|  285|       5|           2.0|  1.0|       1.0|[4.00357716448462...|\n",
            "| 22|      7.0|          1.0|            0.0|          0.0|     71|          0.0|       0.0|       1|  181|       2|           2.0|  1.0|       1.0|[2.83487144278386...|\n",
            "| 22|      7.0|          1.0|            0.0|          0.0|    216|          0.0|       0.0|       1|  179|       2|           2.0|  1.0|       1.0|[2.81960711966822...|\n",
            "| 22|      7.0|          1.0|            0.0|          0.0|    948|          0.0|       0.0|       1|  191|       3|           2.0|  1.0|       1.0|[3.13124253354740...|\n",
            "| 22|      7.0|          1.0|            3.0|          0.0|   1215|          0.0|       0.0|       3|  192|       1|           1.0|  1.0|       1.0|[1.98782132828079...|\n",
            "+---+---------+-------------+---------------+-------------+-------+-------------+----------+--------+-----+--------+--------------+-----+----------+--------------------+\n",
            "only showing top 10 rows\n",
            "\n",
            "Test Area Under ROC 1.0\n"
          ],
          "name": "stdout"
        }
      ]
    },
    {
      "cell_type": "code",
      "metadata": {
        "id": "rQqih-GzUYNZ",
        "colab_type": "code",
        "outputId": "dd05e6ce-c589-44ff-9571-405bb42637cc",
        "colab": {
          "base_uri": "https://localhost:8080/",
          "height": 337
        }
      },
      "source": [
        "lr_Model.summary.roc.select('FPR').collect()\n",
        "lr_Model.summary.roc.select('TPR').collect()\n",
        "import matplotlib.pyplot as plt\n",
        "plt.figure(figsize=(5,5))\n",
        "plt.plot([0, 1], [0, 1], 'r--')\n",
        "plt.plot(lr_Model.summary.roc.select('FPR').collect(),\n",
        "         lr_Model.summary.roc.select('TPR').collect())\n",
        "plt.xlabel('FPR')\n",
        "plt.ylabel('TPR')\n",
        "plt.show()"
      ],
      "execution_count": 24,
      "outputs": [
        {
          "output_type": "display_data",
          "data": {
            "image/png": "[encoded data removed]",
            "text/plain": [
              "<Figure size 360x360 with 1 Axes>"
            ]
          },
          "metadata": {
            "tags": []
          }
        }
      ]
    },
    {
      "cell_type": "markdown",
      "metadata": {
        "colab_type": "text",
        "id": "evM5eiJoDHw2"
      },
      "source": [
        "## 5.2 Decision tree"
      ]
    },
    {
      "cell_type": "code",
      "metadata": {
        "colab_type": "code",
        "id": "He4mlHb7hBoY",
        "outputId": "0eb297cf-3084-4b6f-d412-0d32c560fb5b",
        "colab": {
          "base_uri": "https://localhost:8080/",
          "height": 346
        }
      },
      "source": [
        "#the syntex are learnt using some help from spark.apache.org and towardsdatascience.com\n",
        "#Decision tree\n",
        "from pyspark.ml.classification import DecisionTreeClassifier \n",
        "\n",
        "#running the decision tree model from spark on the datafram \n",
        "#input column as the features and label column as the label and the maximun depth is set to 5\n",
        "decisionTree = DecisionTreeClassifier(featuresCol = 'features', labelCol = 'label', maxDepth = 5)\n",
        "dt_Model = decisionTree.fit(train)\n",
        "\n",
        "#transforming the dataframe and making predictions\n",
        "predictions_decision_tree = dt_Model.transform(test)\n",
        "predictions_decision_tree.select('age', 'job_index','marital_index', 'education_index', 'default_index', 'balance', 'housing_index', 'loan_index', 'campaign', 'pdays', 'previous', 'poutcome_index', 'label', 'prediction', 'probability').show(10)\n",
        "\n",
        "#evaluating the model using the accuracy \n",
        "print(\"Test Accuracy {0}\".format(Evaluate.evaluate(predictions_decision_tree)))"
      ],
      "execution_count": 25,
      "outputs": [
        {
          "output_type": "stream",
          "text": [
            "+---+---------+-------------+---------------+-------------+-------+-------------+----------+--------+-----+--------+--------------+-----+----------+-----------+\n",
            "|age|job_index|marital_index|education_index|default_index|balance|housing_index|loan_index|campaign|pdays|previous|poutcome_index|label|prediction|probability|\n",
            "+---+---------+-------------+---------------+-------------+-------+-------------+----------+--------+-----+--------+--------------+-----+----------+-----------+\n",
            "| 18|      7.0|          1.0|            2.0|          0.0|    608|          0.0|       0.0|       1|   93|       1|           2.0|  1.0|       1.0|  [0.0,1.0]|\n",
            "| 19|      7.0|          1.0|            2.0|          0.0|    608|          0.0|       0.0|       1|  180|       2|           2.0|  1.0|       1.0|  [0.0,1.0]|\n",
            "| 20|      7.0|          1.0|            0.0|          0.0|    215|          0.0|       0.0|       1|   92|       6|           2.0|  1.0|       1.0|  [0.0,1.0]|\n",
            "| 21|      7.0|          1.0|            0.0|          0.0|    215|          0.0|       0.0|       1|   89|       7|           2.0|  1.0|       1.0|  [0.0,1.0]|\n",
            "| 21|      7.0|          1.0|            0.0|          0.0|   2488|          0.0|       0.0|       6|  169|       3|           2.0|  1.0|       1.0|  [0.0,1.0]|\n",
            "| 21|      7.0|          1.0|            2.0|          0.0|    423|          0.0|       0.0|       5|  285|       5|           2.0|  1.0|       1.0|  [0.0,1.0]|\n",
            "| 22|      7.0|          1.0|            0.0|          0.0|     71|          0.0|       0.0|       1|  181|       2|           2.0|  1.0|       1.0|  [0.0,1.0]|\n",
            "| 22|      7.0|          1.0|            0.0|          0.0|    216|          0.0|       0.0|       1|  179|       2|           2.0|  1.0|       1.0|  [0.0,1.0]|\n",
            "| 22|      7.0|          1.0|            0.0|          0.0|    948|          0.0|       0.0|       1|  191|       3|           2.0|  1.0|       1.0|  [0.0,1.0]|\n",
            "| 22|      7.0|          1.0|            3.0|          0.0|   1215|          0.0|       0.0|       3|  192|       1|           1.0|  1.0|       1.0|  [0.0,1.0]|\n",
            "+---+---------+-------------+---------------+-------------+-------+-------------+----------+--------+-----+--------+--------------+-----+----------+-----------+\n",
            "only showing top 10 rows\n",
            "\n",
            "Test Accuracy 1.0\n"
          ],
          "name": "stdout"
        }
      ]
    },
    {
      "cell_type": "markdown",
      "metadata": {
        "colab_type": "text",
        "id": "CaE-Z_IlDKXF"
      },
      "source": [
        "## 5.3 NaiveBayes"
      ]
    },
    {
      "cell_type": "code",
      "metadata": {
        "colab_type": "code",
        "id": "v2XL6I0t7irt",
        "outputId": "3d9d6485-b6cf-4214-8640-13c54b28f9e0",
        "colab": {
          "base_uri": "https://localhost:8080/",
          "height": 528
        }
      },
      "source": [
        "#the syntex are learnt using some help from spark.apache.org and towardsdatascience.com\n",
        "#NaiveBayes\n",
        "from pyspark.ml.classification import NaiveBayes\n",
        "from pyspark.ml.evaluation import MulticlassClassificationEvaluator\n",
        "\n",
        "#performing the naiveBayes supervised learning to train the model with smoothing set to 1\n",
        "nb = NaiveBayes(smoothing=1.0, modelType=\"multinomial\")\n",
        "model = nb.fit(train)\n",
        "\n",
        "#traing the data and making the predictions\n",
        "predictions = model.transform(test)\n",
        "predictions.select('age', 'job_index','marital_index', 'education_index', 'default_index', 'balance', 'housing_index', 'loan_index', 'campaign', 'pdays', 'previous', 'poutcome_index','label','prediction','probability').show()\n",
        "\n",
        "#evalutauing the data using multiClassificationEvaluator to find the accuracy\n",
        "evaluator = MulticlassClassificationEvaluator(labelCol=\"label\", predictionCol=\"prediction\",metricName=\"accuracy\")\n",
        "accuracy = evaluator.evaluate(predictions)\n",
        "\n",
        "#orinting the accuracy of the model\n",
        "print(\"Test set accuracy = \" + str(accuracy))\n"
      ],
      "execution_count": 26,
      "outputs": [
        {
          "output_type": "stream",
          "text": [
            "+---+---------+-------------+---------------+-------------+-------+-------------+----------+--------+-----+--------+--------------+-----+----------+--------------------+\n",
            "|age|job_index|marital_index|education_index|default_index|balance|housing_index|loan_index|campaign|pdays|previous|poutcome_index|label|prediction|         probability|\n",
            "+---+---------+-------------+---------------+-------------+-------+-------------+----------+--------+-----+--------+--------------+-----+----------+--------------------+\n",
            "| 18|      7.0|          1.0|            2.0|          0.0|    608|          0.0|       0.0|       1|   93|       1|           2.0|  1.0|       1.0|[6.32098092127616...|\n",
            "| 19|      7.0|          1.0|            2.0|          0.0|    608|          0.0|       0.0|       1|  180|       2|           2.0|  1.0|       1.0|[6.75646123337687...|\n",
            "| 20|      7.0|          1.0|            0.0|          0.0|    215|          0.0|       0.0|       1|   92|       6|           2.0|  1.0|       1.0|[5.72835034043190...|\n",
            "| 21|      7.0|          1.0|            0.0|          0.0|    215|          0.0|       0.0|       1|   89|       7|           2.0|  1.0|       1.0|[5.77655583925033...|\n",
            "| 21|      7.0|          1.0|            0.0|          0.0|   2488|          0.0|       0.0|       6|  169|       3|           2.0|  1.0|       1.0|[8.27183681630328...|\n",
            "| 21|      7.0|          1.0|            2.0|          0.0|    423|          0.0|       0.0|       5|  285|       5|           2.0|  1.0|       1.0|[9.66910722830412...|\n",
            "| 22|      7.0|          1.0|            0.0|          0.0|     71|          0.0|       0.0|       1|  181|       2|           2.0|  1.0|       1.0|[5.95575675191830...|\n",
            "| 22|      7.0|          1.0|            0.0|          0.0|    216|          0.0|       0.0|       1|  179|       2|           2.0|  1.0|       1.0|[5.94946749974638...|\n",
            "| 22|      7.0|          1.0|            0.0|          0.0|    948|          0.0|       0.0|       1|  191|       3|           2.0|  1.0|       1.0|[6.04228358554445...|\n",
            "| 22|      7.0|          1.0|            3.0|          0.0|   1215|          0.0|       0.0|       3|  192|       1|           1.0|  1.0|       1.0|[0.00271287218672...|\n",
            "| 23|      4.0|          1.0|            0.0|          0.0|    488|          0.0|       0.0|       1|   91|       3|           2.0|  1.0|       1.0|[5.41522984115618...|\n",
            "| 23|      7.0|          1.0|            0.0|          0.0|    107|          0.0|       0.0|       5|  181|       2|           2.0|  1.0|       1.0|[7.78273210915167...|\n",
            "| 24|      2.0|          0.0|            0.0|          0.0|    556|          1.0|       0.0|       2|   80|       2|           2.0|  1.0|       1.0|[0.00137994360833...|\n",
            "| 24|      7.0|          1.0|            0.0|          0.0|    822|          0.0|       0.0|       1|   91|       2|           1.0|  1.0|       1.0|[0.00183842688211...|\n",
            "| 25|      0.0|          0.0|            3.0|          0.0|    448|          0.0|       0.0|       1|  297|       1|           2.0|  1.0|       1.0|[5.98114934331384...|\n",
            "| 25|      0.0|          1.0|            1.0|          0.0|    808|          0.0|       0.0|       2|  114|       2|           1.0|  1.0|       1.0|[0.00191623756122...|\n",
            "| 25|      2.0|          1.0|            0.0|          0.0|    139|          0.0|       1.0|       1|   91|       1|           2.0|  1.0|       1.0|[0.00180576265843...|\n",
            "| 25|      3.0|          1.0|            0.0|          0.0|    507|          1.0|       0.0|       1|  367|       3|           1.0|  1.0|       1.0|[0.00612213637906...|\n",
            "| 25|      4.0|          0.0|            0.0|          0.0|     10|          1.0|       0.0|       1|  294|       1|           1.0|  0.0|       0.0|[0.63130050563294...|\n",
            "| 26|      0.0|          1.0|            1.0|          0.0|    828|          1.0|       0.0|       1|  199|       1|           1.0|  1.0|       1.0|[0.00556094225392...|\n",
            "+---+---------+-------------+---------------+-------------+-------+-------------+----------+--------+-----+--------+--------------+-----+----------+--------------------+\n",
            "only showing top 20 rows\n",
            "\n",
            "Test set accuracy = 0.8918128654970761\n"
          ],
          "name": "stdout"
        }
      ]
    }
  ]
}